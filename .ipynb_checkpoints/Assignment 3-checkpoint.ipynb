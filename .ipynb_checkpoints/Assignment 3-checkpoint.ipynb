{
 "cells": [
  {
   "cell_type": "code",
   "execution_count": 1,
   "id": "aeecbbf3",
   "metadata": {},
   "outputs": [],
   "source": [
    "import numpy as np \n",
    "from PIL import Image \n",
    "from matplotlib import pyplot as plt\n",
    "import matplotlib.image as mpimg\n",
    "import os"
   ]
  },
  {
   "cell_type": "code",
   "execution_count": 2,
   "id": "403b4928",
   "metadata": {},
   "outputs": [],
   "source": [
    "def CalculateHistogram (image):\n",
    "    histogram={}\n",
    "    image=image.convert(\"L\")\n",
    "    img = np.asarray(image)\n",
    "    n=len(img)\n",
    "    m=len(img[0])\n",
    "    for i in range(len(img)):\n",
    "        for j in range(len(img[i]) )  :\n",
    "            if  img[i][j] in histogram:\n",
    "                histogram[img[i][j]]+=1\n",
    "            else:\n",
    "                histogram[img[i][j]]=1\n",
    "    dictionary_items = histogram.items()\n",
    "    histogram = sorted(dictionary_items)\n",
    "    return [histogram,len(img),len(img[0])]"
   ]
  },
  {
   "cell_type": "code",
   "execution_count": 3,
   "id": "d4fd1259",
   "metadata": {},
   "outputs": [],
   "source": [
    "def CalculateCumulativeHistogram(histogram): \n",
    "    for key in range(len(histogram)):\n",
    "        m =  int(key-1)\n",
    "        if m >=0:\n",
    "            hislist= list(histogram[key])\n",
    "            hislist[1]=histogram[m][1]+ hislist[1]\n",
    "            histogram[key] = tuple(hislist)\n",
    "    return histogram\n"
   ]
  },
  {
   "cell_type": "code",
   "execution_count": 4,
   "id": "430683f3",
   "metadata": {},
   "outputs": [],
   "source": [
    "def CalculateEqualizedHistogram(comhisto,n,m):\n",
    "    newint = {}\n",
    "    for i in range(len(comhisto)):\n",
    "        p= (255/((n*m)-comhisto[0][1]))*(comhisto[i][1]-comhisto[0][1])\n",
    "        newint[comhisto[i][0]]=int(p)\n",
    "    return newint"
   ]
  },
  {
   "cell_type": "code",
   "execution_count": 5,
   "id": "1b4f46ee",
   "metadata": {},
   "outputs": [],
   "source": [
    "def CalculateEqualizedImage(image,newint):\n",
    "    image=image.convert(\"L\")\n",
    "    img = np.asarray(image)\n",
    "    for i in range(len(img)):\n",
    "        for j in range(len(img[i]) )  :\n",
    "            img[i][j]=newint[img[i][j]]\n",
    "    return img"
   ]
  },
  {
   "cell_type": "code",
   "execution_count": 6,
   "id": "7cfb00db",
   "metadata": {},
   "outputs": [],
   "source": [
    "def SegmentOptimalThresholding(img):\n",
    "#     image=image.convert(\"L\")\n",
    "#     img = np.asarray(image)\n",
    "    b = [img[0][0],img[0][len(img[0])-1],img[len(img)-1][0],img[len(img)-1][len(img[0])-1]]\n",
    "    img2 = img.copy()\n",
    "    img2 = np.delete(img2, [0,0], axis=1)\n",
    "    img2 = np.delete(img2, [0,len(img2[0])-1], axis=1)\n",
    "    img2 = np.delete(img2, [len(img2)-1,0], axis=1)\n",
    "    img2 = np.delete(img2, [len(img2)-1,len(img2[0])-1], axis=1)\n",
    "    o=img2.flatten()\n",
    "    t = calculateT(-1,b,o)\n",
    "    for i in range(len(img)):\n",
    "        for j in range(len(img[i]) )  :\n",
    "            if img[i][j]>t :\n",
    "                img[i][j]=255\n",
    "            else:\n",
    "                img[i][j]=0\n",
    "    return img"
   ]
  },
  {
   "cell_type": "code",
   "execution_count": 7,
   "id": "55734b12",
   "metadata": {},
   "outputs": [],
   "source": [
    "def calculateT(t0,b1,o1):\n",
    "    mb = np.mean(b1)\n",
    "    mo = np.mean(o1)\n",
    "    t1 = (mo+mb)/2\n",
    "    if(round(t1,5)==round(t0,5)):\n",
    "        return t1\n",
    "    else:\n",
    "        o2=[0]\n",
    "        for i in range(len(o1)):\n",
    "            if(o1[i]>t1):\n",
    "                o2.append(o1[i])\n",
    "            else:\n",
    "                b1.append(o1[i])\n",
    "        return calculateT(t1,b1,o2)"
   ]
  },
  {
   "cell_type": "code",
   "execution_count": 8,
   "id": "250befad",
   "metadata": {},
   "outputs": [
    {
     "ename": "RecursionError",
     "evalue": "maximum recursion depth exceeded in comparison",
     "output_type": "error",
     "traceback": [
      "\u001b[1;31m---------------------------------------------------------------------------\u001b[0m",
      "\u001b[1;31mRecursionError\u001b[0m                            Traceback (most recent call last)",
      "\u001b[1;32m~\\AppData\\Local\\Temp/ipykernel_19644/2994410846.py\u001b[0m in \u001b[0;36m<module>\u001b[1;34m\u001b[0m\n\u001b[0;32m      9\u001b[0m     \u001b[0mimage\u001b[0m\u001b[1;33m=\u001b[0m\u001b[0mimage\u001b[0m\u001b[1;33m.\u001b[0m\u001b[0mconvert\u001b[0m\u001b[1;33m(\u001b[0m\u001b[1;34m\"L\"\u001b[0m\u001b[1;33m)\u001b[0m\u001b[1;33m\u001b[0m\u001b[1;33m\u001b[0m\u001b[0m\n\u001b[0;32m     10\u001b[0m     \u001b[0mimg\u001b[0m \u001b[1;33m=\u001b[0m \u001b[0mnp\u001b[0m\u001b[1;33m.\u001b[0m\u001b[0masarray\u001b[0m\u001b[1;33m(\u001b[0m\u001b[0mimage\u001b[0m\u001b[1;33m)\u001b[0m\u001b[1;33m\u001b[0m\u001b[1;33m\u001b[0m\u001b[0m\n\u001b[1;32m---> 11\u001b[1;33m     \u001b[0mim\u001b[0m \u001b[1;33m=\u001b[0m \u001b[0mSegmentOptimalThresholding\u001b[0m\u001b[1;33m(\u001b[0m\u001b[0mim\u001b[0m\u001b[1;33m)\u001b[0m\u001b[1;33m\u001b[0m\u001b[1;33m\u001b[0m\u001b[0m\n\u001b[0m\u001b[0;32m     12\u001b[0m     \u001b[0mImage\u001b[0m\u001b[1;33m.\u001b[0m\u001b[0mfromarray\u001b[0m\u001b[1;33m(\u001b[0m\u001b[0mim\u001b[0m\u001b[1;33m)\u001b[0m\u001b[1;33m.\u001b[0m\u001b[0msave\u001b[0m\u001b[1;33m(\u001b[0m\u001b[1;34m\"output/\"\u001b[0m\u001b[1;33m+\u001b[0m\u001b[0mstr\u001b[0m\u001b[1;33m(\u001b[0m\u001b[0mi\u001b[0m\u001b[1;33m+\u001b[0m\u001b[1;36m1\u001b[0m\u001b[1;33m)\u001b[0m\u001b[1;33m+\u001b[0m\u001b[1;34m\"-eqseg.jpg\"\u001b[0m\u001b[1;33m)\u001b[0m\u001b[1;33m\u001b[0m\u001b[1;33m\u001b[0m\u001b[0m\n\u001b[0;32m     13\u001b[0m     \u001b[0mim\u001b[0m \u001b[1;33m=\u001b[0m \u001b[0mSegmentOptimalThresholding\u001b[0m\u001b[1;33m(\u001b[0m\u001b[0mimg\u001b[0m\u001b[1;33m)\u001b[0m\u001b[1;33m\u001b[0m\u001b[1;33m\u001b[0m\u001b[0m\n",
      "\u001b[1;32m~\\AppData\\Local\\Temp/ipykernel_19644/1568597828.py\u001b[0m in \u001b[0;36mSegmentOptimalThresholding\u001b[1;34m(img)\u001b[0m\n\u001b[0;32m      9\u001b[0m     \u001b[0mimg2\u001b[0m \u001b[1;33m=\u001b[0m \u001b[0mnp\u001b[0m\u001b[1;33m.\u001b[0m\u001b[0mdelete\u001b[0m\u001b[1;33m(\u001b[0m\u001b[0mimg2\u001b[0m\u001b[1;33m,\u001b[0m \u001b[1;33m[\u001b[0m\u001b[0mlen\u001b[0m\u001b[1;33m(\u001b[0m\u001b[0mimg2\u001b[0m\u001b[1;33m)\u001b[0m\u001b[1;33m-\u001b[0m\u001b[1;36m1\u001b[0m\u001b[1;33m,\u001b[0m\u001b[0mlen\u001b[0m\u001b[1;33m(\u001b[0m\u001b[0mimg2\u001b[0m\u001b[1;33m[\u001b[0m\u001b[1;36m0\u001b[0m\u001b[1;33m]\u001b[0m\u001b[1;33m)\u001b[0m\u001b[1;33m-\u001b[0m\u001b[1;36m1\u001b[0m\u001b[1;33m]\u001b[0m\u001b[1;33m,\u001b[0m \u001b[0maxis\u001b[0m\u001b[1;33m=\u001b[0m\u001b[1;36m1\u001b[0m\u001b[1;33m)\u001b[0m\u001b[1;33m\u001b[0m\u001b[1;33m\u001b[0m\u001b[0m\n\u001b[0;32m     10\u001b[0m     \u001b[0mo\u001b[0m\u001b[1;33m=\u001b[0m\u001b[0mimg2\u001b[0m\u001b[1;33m.\u001b[0m\u001b[0mflatten\u001b[0m\u001b[1;33m(\u001b[0m\u001b[1;33m)\u001b[0m\u001b[1;33m\u001b[0m\u001b[1;33m\u001b[0m\u001b[0m\n\u001b[1;32m---> 11\u001b[1;33m     \u001b[0mt\u001b[0m \u001b[1;33m=\u001b[0m \u001b[0mcalculateT\u001b[0m\u001b[1;33m(\u001b[0m\u001b[1;33m-\u001b[0m\u001b[1;36m1\u001b[0m\u001b[1;33m,\u001b[0m\u001b[0mb\u001b[0m\u001b[1;33m,\u001b[0m\u001b[0mo\u001b[0m\u001b[1;33m)\u001b[0m\u001b[1;33m\u001b[0m\u001b[1;33m\u001b[0m\u001b[0m\n\u001b[0m\u001b[0;32m     12\u001b[0m     \u001b[1;32mfor\u001b[0m \u001b[0mi\u001b[0m \u001b[1;32min\u001b[0m \u001b[0mrange\u001b[0m\u001b[1;33m(\u001b[0m\u001b[0mlen\u001b[0m\u001b[1;33m(\u001b[0m\u001b[0mimg\u001b[0m\u001b[1;33m)\u001b[0m\u001b[1;33m)\u001b[0m\u001b[1;33m:\u001b[0m\u001b[1;33m\u001b[0m\u001b[1;33m\u001b[0m\u001b[0m\n\u001b[0;32m     13\u001b[0m         \u001b[1;32mfor\u001b[0m \u001b[0mj\u001b[0m \u001b[1;32min\u001b[0m \u001b[0mrange\u001b[0m\u001b[1;33m(\u001b[0m\u001b[0mlen\u001b[0m\u001b[1;33m(\u001b[0m\u001b[0mimg\u001b[0m\u001b[1;33m[\u001b[0m\u001b[0mi\u001b[0m\u001b[1;33m]\u001b[0m\u001b[1;33m)\u001b[0m \u001b[1;33m)\u001b[0m  \u001b[1;33m:\u001b[0m\u001b[1;33m\u001b[0m\u001b[1;33m\u001b[0m\u001b[0m\n",
      "\u001b[1;32m~\\AppData\\Local\\Temp/ipykernel_19644/3359759093.py\u001b[0m in \u001b[0;36mcalculateT\u001b[1;34m(t0, b1, o1)\u001b[0m\n\u001b[0;32m     12\u001b[0m             \u001b[1;32melse\u001b[0m\u001b[1;33m:\u001b[0m\u001b[1;33m\u001b[0m\u001b[1;33m\u001b[0m\u001b[0m\n\u001b[0;32m     13\u001b[0m                 \u001b[0mb1\u001b[0m\u001b[1;33m.\u001b[0m\u001b[0mappend\u001b[0m\u001b[1;33m(\u001b[0m\u001b[0mo1\u001b[0m\u001b[1;33m[\u001b[0m\u001b[0mi\u001b[0m\u001b[1;33m]\u001b[0m\u001b[1;33m)\u001b[0m\u001b[1;33m\u001b[0m\u001b[1;33m\u001b[0m\u001b[0m\n\u001b[1;32m---> 14\u001b[1;33m         \u001b[1;32mreturn\u001b[0m \u001b[0mcalculateT\u001b[0m\u001b[1;33m(\u001b[0m\u001b[0mt1\u001b[0m\u001b[1;33m,\u001b[0m\u001b[0mb1\u001b[0m\u001b[1;33m,\u001b[0m\u001b[0mo2\u001b[0m\u001b[1;33m)\u001b[0m\u001b[1;33m\u001b[0m\u001b[1;33m\u001b[0m\u001b[0m\n\u001b[0m",
      "... last 1 frames repeated, from the frame below ...\n",
      "\u001b[1;32m~\\AppData\\Local\\Temp/ipykernel_19644/3359759093.py\u001b[0m in \u001b[0;36mcalculateT\u001b[1;34m(t0, b1, o1)\u001b[0m\n\u001b[0;32m     12\u001b[0m             \u001b[1;32melse\u001b[0m\u001b[1;33m:\u001b[0m\u001b[1;33m\u001b[0m\u001b[1;33m\u001b[0m\u001b[0m\n\u001b[0;32m     13\u001b[0m                 \u001b[0mb1\u001b[0m\u001b[1;33m.\u001b[0m\u001b[0mappend\u001b[0m\u001b[1;33m(\u001b[0m\u001b[0mo1\u001b[0m\u001b[1;33m[\u001b[0m\u001b[0mi\u001b[0m\u001b[1;33m]\u001b[0m\u001b[1;33m)\u001b[0m\u001b[1;33m\u001b[0m\u001b[1;33m\u001b[0m\u001b[0m\n\u001b[1;32m---> 14\u001b[1;33m         \u001b[1;32mreturn\u001b[0m \u001b[0mcalculateT\u001b[0m\u001b[1;33m(\u001b[0m\u001b[0mt1\u001b[0m\u001b[1;33m,\u001b[0m\u001b[0mb1\u001b[0m\u001b[1;33m,\u001b[0m\u001b[0mo2\u001b[0m\u001b[1;33m)\u001b[0m\u001b[1;33m\u001b[0m\u001b[1;33m\u001b[0m\u001b[0m\n\u001b[0m",
      "\u001b[1;31mRecursionError\u001b[0m: maximum recursion depth exceeded in comparison"
     ]
    }
   ],
   "source": [
    "for i in range(5):\n",
    "    image = Image.open(\"input/\"+str(i+1)+\".jpg\")\n",
    "    arr = CalculateHistogram(image)\n",
    "    histo=arr[0]\n",
    "    comhisto = CalculateCumulativeHistogram(histo)\n",
    "    newint = CalculateEqualizedHistogram(comhisto,arr[1],arr[2])\n",
    "    im=CalculateEqualizedImage(image,newint)\n",
    "    Image.fromarray(im).save(\"output/\"+str(i+1)+\"-eq.jpg\")\n",
    "    image=image.convert(\"L\")\n",
    "    img = np.asarray(image)\n",
    "    im = SegmentOptimalThresholding(im)\n",
    "    Image.fromarray(im).save(\"output/\"+str(i+1)+\"-eqseg.jpg\")\n",
    "    im = SegmentOptimalThresholding(img)\n",
    "    Image.fromarray(im).save(\"output/\"+str(i+1)+\"-orseg.jpg\")\n"
   ]
  },
  {
   "cell_type": "markdown",
   "id": "8424c312",
   "metadata": {},
   "source": [
    "# Comments:"
   ]
  },
  {
   "cell_type": "markdown",
   "id": "0f23ff59",
   "metadata": {},
   "source": [
    "Applying Histogram equaliztaion doesn't always reult in a better segmented image like in the case of pictures 2,4.\n",
    "<br>\n",
    "In picture 2 it resulted in consedring the sky as a part of the object insted of the backgroud.\n",
    "<br>\n",
    "In picture 4 it resulted in having a noisy segmented image.\n",
    "<br>\n",
    "As for pictures 1,3 the histogram equlization resulted in more clearer output\n",
    "<br>\n",
    "In picture 5 the equalization did not affect the output greatly "
   ]
  },
  {
   "cell_type": "code",
   "execution_count": null,
   "id": "c1aada8f",
   "metadata": {},
   "outputs": [],
   "source": []
  }
 ],
 "metadata": {
  "kernelspec": {
   "display_name": "Python 3 (ipykernel)",
   "language": "python",
   "name": "python3"
  },
  "language_info": {
   "codemirror_mode": {
    "name": "ipython",
    "version": 3
   },
   "file_extension": ".py",
   "mimetype": "text/x-python",
   "name": "python",
   "nbconvert_exporter": "python",
   "pygments_lexer": "ipython3",
   "version": "3.7.1"
  }
 },
 "nbformat": 4,
 "nbformat_minor": 5
}
